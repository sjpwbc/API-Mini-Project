{
 "cells": [
  {
   "cell_type": "markdown",
   "metadata": {},
   "source": [
    "This exercise will require you to pull some data from the Qunadl API. Qaundl is currently the most widely used aggregator of financial market data."
   ]
  },
  {
   "cell_type": "markdown",
   "metadata": {},
   "source": [
    "As a first step, you will need to register a free account on the http://www.quandl.com website."
   ]
  },
  {
   "cell_type": "markdown",
   "metadata": {},
   "source": [
    "After you register, you will be provided with a unique API key, that you should store:"
   ]
  },
  {
   "cell_type": "code",
   "execution_count": 6,
   "metadata": {},
   "outputs": [],
   "source": [
    "# Store the API key as a string - according to PEP8, constants are always named in all upper case\n",
    "API_KEY = ' '"
   ]
  },
  {
   "cell_type": "markdown",
   "metadata": {},
   "source": [
    "Qaundl has a large number of data sources, but, unfortunately, most of them require a Premium subscription. Still, there are also a good number of free datasets."
   ]
  },
  {
   "cell_type": "markdown",
   "metadata": {},
   "source": [
    "For this mini project, we will focus on equities data from the Frankfurt Stock Exhange (FSE), which is available for free. We'll try and analyze the stock prices of a company called Carl Zeiss Meditec, which manufactures tools for eye examinations, as well as medical lasers for laser eye surgery: https://www.zeiss.com/meditec/int/home.html. The company is listed under the stock ticker AFX_X."
   ]
  },
  {
   "cell_type": "markdown",
   "metadata": {},
   "source": [
    "You can find the detailed Quandl API instructions here: https://docs.quandl.com/docs/time-series"
   ]
  },
  {
   "cell_type": "markdown",
   "metadata": {},
   "source": [
    "While there is a dedicated Python package for connecting to the Quandl API, we would prefer that you use the *requests* package, which can be easily downloaded using *pip* or *conda*. You can find the documentation for the package here: http://docs.python-requests.org/en/master/ "
   ]
  },
  {
   "cell_type": "markdown",
   "metadata": {},
   "source": [
    "Finally, apart from the *requests* package, you are encouraged to not use any third party Python packages, such as *pandas*, and instead focus on what's available in the Python Standard Library (the *collections* module might come in handy: https://pymotw.com/3/collections/ ).\n",
    "Also, since you won't have access to DataFrames, you are encouraged to us Python's native data structures - preferably dictionaries, though some questions can also be answered using lists.\n",
    "You can read more on these data structures here: https://docs.python.org/3/tutorial/datastructures.html"
   ]
  },
  {
   "cell_type": "markdown",
   "metadata": {},
   "source": [
    "Keep in mind that the JSON responses you will be getting from the API map almost one-to-one to Python's dictionaries. Unfortunately, they can be very nested, so make sure you read up on indexing dictionaries in the documentation provided above."
   ]
  },
  {
   "cell_type": "code",
   "execution_count": 7,
   "metadata": {},
   "outputs": [],
   "source": [
    "# First, import the relevant modules\n",
    "import requests\n",
    "import json"
   ]
  },
  {
   "cell_type": "code",
   "execution_count": 8,
   "metadata": {},
   "outputs": [],
   "source": [
    "# Now, call the Quandl API and pull out a small sample of the data (only one day) to get a glimpse\n",
    "# into the JSON structure that will be returned\n",
    "url = 'https://www.quandl.com/api/v3/datasets/FSE/AFX_X/data.json?start_date=2020-04-20&end_date=2020-04-20&api_key='\n",
    "r = requests.get(url)"
   ]
  },
  {
   "cell_type": "code",
   "execution_count": 9,
   "metadata": {},
   "outputs": [
    {
     "name": "stdout",
     "output_type": "stream",
     "text": [
      "{'dataset_data': {'limit': None, 'transform': None, 'column_index': None, 'column_names': ['Date', 'Open', 'High', 'Low', 'Close', 'Change', 'Traded Volume', 'Turnover', 'Last Price of the Day', 'Daily Traded Units', 'Daily Turnover'], 'start_date': '2020-04-20', 'end_date': '2020-04-20', 'frequency': 'daily', 'data': [['2020-04-20', 94.0, 94.65, 91.9, 94.15, None, 124634.0, 11640880.35, None, None, None]], 'collapse': None, 'order': None}}\n"
     ]
    }
   ],
   "source": [
    "# Inspect the JSON structure of the object you created, and take note of how nested it is,\n",
    "# as well as the overall structure\n",
    "print(r.json())"
   ]
  },
  {
   "cell_type": "markdown",
   "metadata": {},
   "source": [
    "These are your tasks for this mini project:\n",
    "\n",
    "1. Collect data from the Franfurt Stock Exchange, for the ticker AFX_X, for the whole year 2017 (keep in mind that the date format is YYYY-MM-DD).\n",
    "2. Convert the returned JSON object into a Python dictionary.\n",
    "3. Calculate what the highest and lowest opening prices were for the stock in this period.\n",
    "4. What was the largest change in any one day (based on High and Low price)?\n",
    "5. What was the largest change between any two days (based on Closing Price)?\n",
    "6. What was the average daily trading volume during this year?\n",
    "7. (Optional) What was the median trading volume during this year. (Note: you may need to implement your own function for calculating the median.)"
   ]
  },
  {
   "cell_type": "code",
   "execution_count": 10,
   "metadata": {},
   "outputs": [],
   "source": [
    "# Task 1: Collect data from the Franfurt Stock Exchange for the ticker AFX_X for all of 2017.\n",
    "url_2 = 'https://www.quandl.com/api/v3/datasets/FSE/AFX_X/data.json?start_date=2017-01-01&end_date=2017-12-31&api_key='\n",
    "AFX_X_2017 = requests.get(url_2)"
   ]
  },
  {
   "cell_type": "code",
   "execution_count": 12,
   "metadata": {},
   "outputs": [
    {
     "data": {
      "text/plain": [
       "dict"
      ]
     },
     "execution_count": 12,
     "metadata": {},
     "output_type": "execute_result"
    }
   ],
   "source": [
    "# Task 2: Convert the returned JSON object into a Python dictionary.\n",
    "afx = AFX_X_2017.json()\n",
    "type(afx)"
   ]
  },
  {
   "cell_type": "code",
   "execution_count": 17,
   "metadata": {},
   "outputs": [],
   "source": [
    "# To begin answering Tasks 3-7, extract data from the Python dictionary.\n",
    "# First, create empty lists to store data.\n",
    "afx_opening_price = []\n",
    "afx_high_price = []\n",
    "afx_low_price = []\n",
    "afx_closing_price = []\n",
    "afx_change = [0] # Set to 0 because this is a rate of change.\n",
    "afx_change_day = []\n",
    "afx_trading_volume = []"
   ]
  },
  {
   "cell_type": "code",
   "execution_count": 18,
   "metadata": {},
   "outputs": [],
   "source": [
    "# Second, extract and store daily values throughout the yearly data.\n",
    "for i in range(len(afx['dataset_data']['data'])):\n",
    "    \n",
    "    # Select data from relevant outer indices.\n",
    "    opening = afx['dataset_data']['data'][i][1]\n",
    "    closing = afx['dataset_data']['data'][i][4]\n",
    "    high = afx['dataset_data']['data'][i][2]\n",
    "    low = afx['dataset_data']['data'][i][3]\n",
    "    t_volume = afx['dataset_data']['data'][i][6]\n",
    "    \n",
    "    # Check if data entries for that day exists for each relevant parameter.\n",
    "    if isinstance(opening, float): \n",
    "        afx_opening_price.append(opening)\n",
    "    if isinstance(closing, float):\n",
    "        afx_closing_price.append(closing)\n",
    "    if isinstance(high, float) and isinstance(low, float):\n",
    "        change_day = high - low\n",
    "        afx_change_day.append(change_day)\n",
    "    \n",
    "    # Correct for the fact that change cannot be calculated based on the closing price of the first day.\n",
    "    if i != 0:\n",
    "        change = afx_closing_price[i] - afx_closing_price[i-1]\n",
    "        afx_change.append(change)\n",
    "    \n",
    "    # Store the traded volume for each day.\n",
    "    if isinstance(t_volume, float):\n",
    "        afx_trading_volume.append(t_volume)"
   ]
  },
  {
   "cell_type": "code",
   "execution_count": 25,
   "metadata": {},
   "outputs": [
    {
     "name": "stdout",
     "output_type": "stream",
     "text": [
      "The highest opening price is: $53.11\n",
      "The lowest opening price is: $34.00\n"
     ]
    }
   ],
   "source": [
    "# Task 3: Calculate what the highest and lowest opening prices were for the stock in this period.\n",
    "print('The highest opening price is: $%4.2f'% max(afx_opening_price))\n",
    "print('The lowest opening price is: $%4.2f'% min(afx_opening_price))"
   ]
  },
  {
   "cell_type": "code",
   "execution_count": 26,
   "metadata": {
    "scrolled": true
   },
   "outputs": [
    {
     "name": "stdout",
     "output_type": "stream",
     "text": [
      "The largest change in any one day is: $2.81\n"
     ]
    }
   ],
   "source": [
    "# Task 4: What was the largest change in any one day (based on high and low price)?\n",
    "print('The largest change in any one day is: $%4.2f'% max(afx_change_day))"
   ]
  },
  {
   "cell_type": "code",
   "execution_count": 27,
   "metadata": {
    "scrolled": true
   },
   "outputs": [
    {
     "name": "stdout",
     "output_type": "stream",
     "text": [
      "The largest change between any two days is: $2.56\n"
     ]
    }
   ],
   "source": [
    "# Task 5: What was the largest change between any two days (based on closing price)?\n",
    "print('The largest change between any two days is: $%4.2f'% max(afx_change))"
   ]
  },
  {
   "cell_type": "code",
   "execution_count": 37,
   "metadata": {},
   "outputs": [
    {
     "name": "stdout",
     "output_type": "stream",
     "text": [
      "The average daily trading volume during this year is:  89124.34 shares\n"
     ]
    }
   ],
   "source": [
    "# Task 6: What was the average daily trading volume during this year?\n",
    "avg_volume = sum(afx_trading_volume)/len(afx_trading_volume)\n",
    "print('The average daily trading volume during this year is: %9.2f shares'% avg_volume)"
   ]
  },
  {
   "cell_type": "code",
   "execution_count": 38,
   "metadata": {},
   "outputs": [
    {
     "name": "stdout",
     "output_type": "stream",
     "text": [
      "The median trading volume during this year is:  76286.00 shares\n"
     ]
    }
   ],
   "source": [
    "# Task 7: What was the median trading volume during this year?\n",
    "med_volume = sorted(afx_trading_volume)[int(len(afx_trading_volume)/2)]\n",
    "print('The median trading volume during this year is: %9.2f shares'% med_volume)"
   ]
  }
 ],
 "metadata": {
  "kernelspec": {
   "display_name": "Python 3",
   "language": "python",
   "name": "python3"
  },
  "language_info": {
   "codemirror_mode": {
    "name": "ipython",
    "version": 3
   },
   "file_extension": ".py",
   "mimetype": "text/x-python",
   "name": "python",
   "nbconvert_exporter": "python",
   "pygments_lexer": "ipython3",
   "version": "3.7.4"
  }
 },
 "nbformat": 4,
 "nbformat_minor": 2
}
